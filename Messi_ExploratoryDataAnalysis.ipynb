{
 "cells": [
  {
   "cell_type": "code",
   "execution_count": 11,
   "id": "642da2fc",
   "metadata": {},
   "outputs": [],
   "source": [
    "import numpy as np\n",
    "import pandas as pd\n",
    "import matplotlib.pyplot as plt \n",
    "import seaborn as sns"
   ]
  },
  {
   "cell_type": "code",
   "execution_count": 35,
   "id": "799b23a9",
   "metadata": {},
   "outputs": [],
   "source": [
    "data =pd.read_csv('C:\\\\Users\\\\91867\\\\Documents\\\\LM10_EDA\\\\LM10.csv')"
   ]
  },
  {
   "cell_type": "code",
   "execution_count": 36,
   "id": "a356636d",
   "metadata": {},
   "outputs": [],
   "source": [
    "df= data.copy()"
   ]
  },
  {
   "cell_type": "code",
   "execution_count": 37,
   "id": "6ae71994",
   "metadata": {},
   "outputs": [
    {
     "name": "stdout",
     "output_type": "stream",
     "text": [
      "<class 'pandas.core.frame.DataFrame'>\n",
      "RangeIndex: 704 entries, 0 to 703\n",
      "Data columns (total 13 columns):\n",
      " #   Column            Non-Null Count  Dtype \n",
      "---  ------            --------------  ----- \n",
      " 0   Season            704 non-null    object\n",
      " 1   Competition       704 non-null    object\n",
      " 2   Matchday          704 non-null    object\n",
      " 3   Date              704 non-null    object\n",
      " 4   Venue             704 non-null    object\n",
      " 5   Club              704 non-null    object\n",
      " 6   Opponent          704 non-null    object\n",
      " 7   Result            704 non-null    object\n",
      " 8   Playing_Position  704 non-null    object\n",
      " 9   Minute            704 non-null    object\n",
      " 10  At_score          704 non-null    object\n",
      " 11  Type              703 non-null    object\n",
      " 12  Goal_assist       490 non-null    object\n",
      "dtypes: object(13)\n",
      "memory usage: 71.6+ KB\n"
     ]
    }
   ],
   "source": [
    "df.info()"
   ]
  },
  {
   "cell_type": "code",
   "execution_count": 38,
   "id": "357860fa",
   "metadata": {},
   "outputs": [
    {
     "data": {
      "text/html": [
       "<div>\n",
       "<style scoped>\n",
       "    .dataframe tbody tr th:only-of-type {\n",
       "        vertical-align: middle;\n",
       "    }\n",
       "\n",
       "    .dataframe tbody tr th {\n",
       "        vertical-align: top;\n",
       "    }\n",
       "\n",
       "    .dataframe thead th {\n",
       "        text-align: right;\n",
       "    }\n",
       "</style>\n",
       "<table border=\"1\" class=\"dataframe\">\n",
       "  <thead>\n",
       "    <tr style=\"text-align: right;\">\n",
       "      <th></th>\n",
       "      <th>Season</th>\n",
       "      <th>Competition</th>\n",
       "      <th>Matchday</th>\n",
       "      <th>Date</th>\n",
       "      <th>Venue</th>\n",
       "      <th>Club</th>\n",
       "      <th>Opponent</th>\n",
       "      <th>Result</th>\n",
       "      <th>Playing_Position</th>\n",
       "      <th>Minute</th>\n",
       "      <th>At_score</th>\n",
       "      <th>Type</th>\n",
       "      <th>Goal_assist</th>\n",
       "    </tr>\n",
       "  </thead>\n",
       "  <tbody>\n",
       "    <tr>\n",
       "      <th>0</th>\n",
       "      <td>04/05</td>\n",
       "      <td>LaLiga</td>\n",
       "      <td>34</td>\n",
       "      <td>05-01/05</td>\n",
       "      <td>H</td>\n",
       "      <td>FC Barcelona</td>\n",
       "      <td>Albacete Balompie</td>\n",
       "      <td>2:00</td>\n",
       "      <td>CF</td>\n",
       "      <td>90+1</td>\n",
       "      <td>2:00</td>\n",
       "      <td>Left-footed shot</td>\n",
       "      <td>Ronaldinho Gaacho</td>\n",
       "    </tr>\n",
       "    <tr>\n",
       "      <th>1</th>\n",
       "      <td>05/06</td>\n",
       "      <td>UEFA Champions League</td>\n",
       "      <td>Group Stage</td>\n",
       "      <td>11-02/05</td>\n",
       "      <td>H</td>\n",
       "      <td>FC Barcelona</td>\n",
       "      <td>Panathinaikos Athens</td>\n",
       "      <td>5:00</td>\n",
       "      <td>RW</td>\n",
       "      <td>34</td>\n",
       "      <td>3:00</td>\n",
       "      <td>Left-footed shot</td>\n",
       "      <td>NaN</td>\n",
       "    </tr>\n",
       "    <tr>\n",
       "      <th>2</th>\n",
       "      <td>05/06</td>\n",
       "      <td>LaLiga</td>\n",
       "      <td>13</td>\n",
       "      <td>11/27/05</td>\n",
       "      <td>H</td>\n",
       "      <td>FC Barcelona</td>\n",
       "      <td>Racing Santander</td>\n",
       "      <td>4:01</td>\n",
       "      <td>RW</td>\n",
       "      <td>51</td>\n",
       "      <td>2:00</td>\n",
       "      <td>Left-footed shot</td>\n",
       "      <td>Samuel Etoo</td>\n",
       "    </tr>\n",
       "    <tr>\n",
       "      <th>3</th>\n",
       "      <td>05/06</td>\n",
       "      <td>LaLiga</td>\n",
       "      <td>19</td>\n",
       "      <td>1/15/06</td>\n",
       "      <td>H</td>\n",
       "      <td>FC Barcelona</td>\n",
       "      <td>Athletic Bilbao</td>\n",
       "      <td>2:01</td>\n",
       "      <td>RW</td>\n",
       "      <td>50</td>\n",
       "      <td>2:01</td>\n",
       "      <td>Left-footed shot</td>\n",
       "      <td>Mark van Bommel</td>\n",
       "    </tr>\n",
       "    <tr>\n",
       "      <th>4</th>\n",
       "      <td>05/06</td>\n",
       "      <td>LaLiga</td>\n",
       "      <td>20</td>\n",
       "      <td>1/22/06</td>\n",
       "      <td>H</td>\n",
       "      <td>FC Barcelona</td>\n",
       "      <td>Deportivo Alaves</td>\n",
       "      <td>2:00</td>\n",
       "      <td>CF</td>\n",
       "      <td>82</td>\n",
       "      <td>2:00</td>\n",
       "      <td>Left-footed shot</td>\n",
       "      <td>Ronaldinho Gaacho</td>\n",
       "    </tr>\n",
       "  </tbody>\n",
       "</table>\n",
       "</div>"
      ],
      "text/plain": [
       "  Season            Competition     Matchday      Date Venue          Club  \\\n",
       "0  04/05                 LaLiga           34  05-01/05     H  FC Barcelona   \n",
       "1  05/06  UEFA Champions League  Group Stage  11-02/05     H  FC Barcelona   \n",
       "2  05/06                 LaLiga           13  11/27/05     H  FC Barcelona   \n",
       "3  05/06                 LaLiga           19   1/15/06     H  FC Barcelona   \n",
       "4  05/06                 LaLiga           20   1/22/06     H  FC Barcelona   \n",
       "\n",
       "               Opponent Result Playing_Position Minute At_score  \\\n",
       "0     Albacete Balompie   2:00               CF   90+1     2:00   \n",
       "1  Panathinaikos Athens   5:00               RW     34     3:00   \n",
       "2      Racing Santander   4:01               RW     51     2:00   \n",
       "3       Athletic Bilbao   2:01               RW     50     2:01   \n",
       "4      Deportivo Alaves   2:00               CF     82     2:00   \n",
       "\n",
       "               Type        Goal_assist  \n",
       "0  Left-footed shot  Ronaldinho Gaacho  \n",
       "1  Left-footed shot                NaN  \n",
       "2  Left-footed shot        Samuel Etoo  \n",
       "3  Left-footed shot    Mark van Bommel  \n",
       "4  Left-footed shot  Ronaldinho Gaacho  "
      ]
     },
     "execution_count": 38,
     "metadata": {},
     "output_type": "execute_result"
    }
   ],
   "source": [
    "df.head()"
   ]
  },
  {
   "cell_type": "code",
   "execution_count": 39,
   "id": "42c8ab78",
   "metadata": {},
   "outputs": [
    {
     "data": {
      "text/plain": [
       "Season                0\n",
       "Competition           0\n",
       "Matchday              0\n",
       "Date                  0\n",
       "Venue                 0\n",
       "Club                  0\n",
       "Opponent              0\n",
       "Result                0\n",
       "Playing_Position      0\n",
       "Minute                0\n",
       "At_score              0\n",
       "Type                  1\n",
       "Goal_assist         214\n",
       "dtype: int64"
      ]
     },
     "execution_count": 39,
     "metadata": {},
     "output_type": "execute_result"
    }
   ],
   "source": [
    "#Clean data(Handle null values using forward filling)\n",
    "\n",
    "df.isna().sum()\n"
   ]
  },
  {
   "cell_type": "code",
   "execution_count": 40,
   "id": "f3704e78",
   "metadata": {},
   "outputs": [],
   "source": [
    "df[\"Type\"].fillna(df[\"Type\"].mode()[0],axis =0,inplace=True)"
   ]
  },
  {
   "cell_type": "code",
   "execution_count": 41,
   "id": "ba8db07b",
   "metadata": {},
   "outputs": [],
   "source": [
    "df[\"Goal_assist\"].fillna(\"No assist\",axis=0 ,inplace=True)"
   ]
  },
  {
   "cell_type": "code",
   "execution_count": 42,
   "id": "2ef47937",
   "metadata": {},
   "outputs": [
    {
     "data": {
      "text/plain": [
       "Competition\n",
       "LaLiga                   474\n",
       "UEFA Champions League    128\n",
       "Copa del Rey              56\n",
       "Ligue 1                   21\n",
       "Supercopa                 14\n",
       "FIFA Club World Cup        5\n",
       "UEFA Super Cup             3\n",
       "Trophée des Champions      1\n",
       "Troph�e des Champions      1\n",
       "Champions League           1\n",
       "Name: count, dtype: int64"
      ]
     },
     "execution_count": 42,
     "metadata": {},
     "output_type": "execute_result"
    }
   ],
   "source": [
    "df[\"Competition\"]=df[\"Competition\"].str.replace(\"UEFA UEFA Champions League\",'UEFA Champions League' )\n",
    "df[\"Competition\"]=df[\"Competition\"].str.replace(\"Trophï¿½e des Champions\",'TrophÃ©e des Champions' )\n",
    "\n",
    "df[\"Competition\"].value_counts()"
   ]
  },
  {
   "cell_type": "code",
   "execution_count": 43,
   "id": "a84c9b95",
   "metadata": {},
   "outputs": [],
   "source": [
    "df[\"Season\"]=df[\"Season\"].str.replace('11-Dec','11/12' )\n",
    "df[\"Season\"]=df[\"Season\"].str.replace('Dec-13','12/13' )\n",
    "df[\"Playing_Position\"]=df[\"Playing_Position\"].str.replace(\"CF \",\"CF\")\n",
    "df[\"Playing_Position\"]=df[\"Playing_Position\"].str.replace(\"SS \",\"SS\")\n",
    "df[\"Playing_Position\"]=df[\"Playing_Position\"].replace(\"RW \",\"RW\")\n",
    "df[\"Playing_Position\"]=df[\"Playing_Position\"].replace(\"AM \",\"AM\")"
   ]
  },
  {
   "cell_type": "code",
   "execution_count": 44,
   "id": "c42372cc",
   "metadata": {},
   "outputs": [
    {
     "data": {
      "text/plain": [
       "0"
      ]
     },
     "execution_count": 44,
     "metadata": {},
     "output_type": "execute_result"
    }
   ],
   "source": [
    "#check duplicates\n",
    "\n",
    "df.duplicated().sum()\n"
   ]
  },
  {
   "cell_type": "code",
   "execution_count": 45,
   "id": "70a93f07",
   "metadata": {},
   "outputs": [
    {
     "data": {
      "text/plain": [
       "0                     LaLiga\n",
       "1      UEFA Champions League\n",
       "2                     LaLiga\n",
       "3                     LaLiga\n",
       "4                     LaLiga\n",
       "               ...          \n",
       "699                  Ligue 1\n",
       "700                  Ligue 1\n",
       "701                  Ligue 1\n",
       "702                  Ligue 1\n",
       "703                  Ligue 1\n",
       "Name: Competition, Length: 704, dtype: object"
      ]
     },
     "execution_count": 45,
     "metadata": {},
     "output_type": "execute_result"
    }
   ],
   "source": [
    "#goals for every competition\n",
    "\n",
    "df[\"Competition\"]"
   ]
  },
  {
   "cell_type": "code",
   "execution_count": 46,
   "id": "319c71ad",
   "metadata": {},
   "outputs": [
    {
     "data": {
      "text/plain": [
       "(array([0, 1, 2, 3, 4, 5, 6, 7, 8, 9]),\n",
       " [Text(0, 0, 'LaLiga'),\n",
       "  Text(1, 0, 'UEFA Champions League'),\n",
       "  Text(2, 0, 'Copa del Rey'),\n",
       "  Text(3, 0, 'Supercopa'),\n",
       "  Text(4, 0, 'FIFA Club World Cup'),\n",
       "  Text(5, 0, 'UEFA Super Cup'),\n",
       "  Text(6, 0, 'Ligue 1'),\n",
       "  Text(7, 0, 'Trophée des Champions'),\n",
       "  Text(8, 0, 'Troph�e des Champions'),\n",
       "  Text(9, 0, 'Champions League')])"
      ]
     },
     "execution_count": 46,
     "metadata": {},
     "output_type": "execute_result"
    },
    {
     "data": {
      "image/png": "[encoded data removed]",
      "text/plain": [
       "<Figure size 1080x720 with 1 Axes>"
      ]
     },
     "metadata": {
      "needs_background": "light"
     },
     "output_type": "display_data"
    }
   ],
   "source": [
    "plt.figure(figsize=(15, 10))\n",
    "sns.countplot(data=df, x=\"Competition\", color=\"red\")\n",
    "plt.xlabel(\"Competition Name\")\n",
    "plt.ylabel(\"Number of goals\")\n",
    "plt.xticks(rotation=45)"
   ]
  },
  {
   "cell_type": "code",
   "execution_count": 47,
   "id": "3e62efc2",
   "metadata": {},
   "outputs": [
    {
     "data": {
      "text/plain": [
       "(array([ 0,  1,  2,  3,  4,  5,  6,  7,  8,  9, 10, 11, 12, 13, 14, 15, 16,\n",
       "        17, 18]),\n",
       " [Text(0, 0, '04/05'),\n",
       "  Text(1, 0, '05/06'),\n",
       "  Text(2, 0, '06/07'),\n",
       "  Text(3, 0, '07/08'),\n",
       "  Text(4, 0, '08/09'),\n",
       "  Text(5, 0, '09/10'),\n",
       "  Text(6, 0, '10/11'),\n",
       "  Text(7, 0, '11/12'),\n",
       "  Text(8, 0, '12/13'),\n",
       "  Text(9, 0, '13/14'),\n",
       "  Text(10, 0, '14/15'),\n",
       "  Text(11, 0, '15/16'),\n",
       "  Text(12, 0, '16/17'),\n",
       "  Text(13, 0, '17/18'),\n",
       "  Text(14, 0, '18/19'),\n",
       "  Text(15, 0, '19/20'),\n",
       "  Text(16, 0, '20/21'),\n",
       "  Text(17, 0, '21/22'),\n",
       "  Text(18, 0, '22/23')])"
      ]
     },
     "execution_count": 47,
     "metadata": {},
     "output_type": "execute_result"
    },
    {
     "data": {
      "image/png": "[encoded data removed]",
      "text/plain": [
       "<Figure size 1080x720 with 1 Axes>"
      ]
     },
     "metadata": {
      "needs_background": "light"
     },
     "output_type": "display_data"
    }
   ],
   "source": [
    "#goals for every season\n",
    "\n",
    "plt.figure(figsize=(15,10))\n",
    "sns.countplot(data=df,x=df[\"Season\"],color=\"green\")\n",
    "plt.xlabel(\"Season\")\n",
    "plt.ylabel(\"Number of goals\")\n",
    "plt.xticks(rotation=45)"
   ]
  },
  {
   "cell_type": "code",
   "execution_count": 48,
   "id": "96094df1",
   "metadata": {},
   "outputs": [
    {
     "data": {
      "text/plain": [
       "Playing_Position\n",
       "CF    316\n",
       "RW    316\n",
       "SS     55\n",
       "AM     16\n",
       "LW      1\n",
       "Name: count, dtype: int64"
      ]
     },
     "execution_count": 48,
     "metadata": {},
     "output_type": "execute_result"
    }
   ],
   "source": [
    "#goals per position\n",
    "\n",
    "df[\"Playing_Position\"].value_counts()"
   ]
  },
  {
   "cell_type": "code",
   "execution_count": 49,
   "id": "e4f4e14c",
   "metadata": {},
   "outputs": [
    {
     "data": {
      "text/plain": [
       "(array([0, 1, 2, 3, 4]),\n",
       " [Text(0, 0, 'CF'),\n",
       "  Text(1, 0, 'RW'),\n",
       "  Text(2, 0, 'LW'),\n",
       "  Text(3, 0, 'SS'),\n",
       "  Text(4, 0, 'AM')])"
      ]
     },
     "execution_count": 49,
     "metadata": {},
     "output_type": "execute_result"
    },
    {
     "data": {
      "image/png": "[encoded data removed]",
      "text/plain": [
       "<Figure size 1080x720 with 1 Axes>"
      ]
     },
     "metadata": {
      "needs_background": "light"
     },
     "output_type": "display_data"
    }
   ],
   "source": [
    "plt.figure(figsize=(15,10))\n",
    "sns.countplot(data=df,x=df[\"Playing_Position\"],color=\"Yellow\")\n",
    "plt.xlabel(\"Postions\")\n",
    "plt.ylabel(\"Number of goals\")\n",
    "plt.xticks(rotation=45)"
   ]
  },
  {
   "cell_type": "code",
   "execution_count": 50,
   "id": "36aef294",
   "metadata": {},
   "outputs": [
    {
     "data": {
      "text/plain": [
       "(array([0, 1]), [Text(0, 0, 'H'), Text(1, 0, 'A')])"
      ]
     },
     "execution_count": 50,
     "metadata": {},
     "output_type": "execute_result"
    },
    {
     "data": {
      "image/png": "[encoded data removed]",
      "text/plain": [
       "<Figure size 720x576 with 1 Axes>"
      ]
     },
     "metadata": {
      "needs_background": "light"
     },
     "output_type": "display_data"
    }
   ],
   "source": [
    "#goals per home or away\n",
    "\n",
    "plt.figure(figsize=(10,8))\n",
    "sns.countplot(data=df,x=df[\"Venue\"],color=\"blue\")\n",
    "plt.xlabel(\"HOME VS AWAY\")\n",
    "plt.ylabel(\"Number of goals\")\n",
    "plt.xticks(rotation=45)"
   ]
  },
  {
   "cell_type": "code",
   "execution_count": 51,
   "id": "371b1565",
   "metadata": {},
   "outputs": [
    {
     "data": {
      "text/plain": [
       "Opponent\n",
       "Sevilla FC                38\n",
       "Atletico de Madrid        32\n",
       "Valencia CF               31\n",
       "Athletic Bilbao           29\n",
       "Real Betis Balompie       26\n",
       "Real Madrid               26\n",
       "RCD Espanyol Barcelona    25\n",
       "CA Osasuna                25\n",
       "Levante UD                24\n",
       "Getafe CF                 21\n",
       "Name: count, dtype: int64"
      ]
     },
     "execution_count": 51,
     "metadata": {},
     "output_type": "execute_result"
    }
   ],
   "source": [
    "#most goals against teams\n",
    "\n",
    "top10=df[\"Opponent\"].value_counts().sort_values(ascending=False).head(10)\n",
    "top10"
   ]
  },
  {
   "cell_type": "code",
   "execution_count": 52,
   "id": "2f975805",
   "metadata": {},
   "outputs": [
    {
     "data": {
      "text/plain": [
       "(array([0, 1, 2, 3, 4, 5, 6, 7, 8, 9]),\n",
       " [Text(0, 0, 'Sevilla FC'),\n",
       "  Text(1, 0, 'Atletico de Madrid'),\n",
       "  Text(2, 0, 'Valencia CF'),\n",
       "  Text(3, 0, 'Athletic Bilbao'),\n",
       "  Text(4, 0, 'Real Betis Balompie'),\n",
       "  Text(5, 0, 'Real Madrid'),\n",
       "  Text(6, 0, 'RCD Espanyol Barcelona'),\n",
       "  Text(7, 0, 'CA Osasuna'),\n",
       "  Text(8, 0, 'Levante UD'),\n",
       "  Text(9, 0, 'Getafe CF')])"
      ]
     },
     "execution_count": 52,
     "metadata": {},
     "output_type": "execute_result"
    },
    {
     "data": {
      "image/png": "[encoded data removed]",
      "text/plain": [
       "<Figure size 720x720 with 1 Axes>"
      ]
     },
     "metadata": {
      "needs_background": "light"
     },
     "output_type": "display_data"
    }
   ],
   "source": [
    "plt.figure(figsize=(10,10))\n",
    "top10.plot(kind='bar')\n",
    "plt.xlabel(\"most 10 opponent per goals\")\n",
    "plt.ylabel(\"Number of goals\")\n",
    "plt.xticks(rotation=45)"
   ]
  },
  {
   "cell_type": "code",
   "execution_count": null,
   "id": "31acdf3d",
   "metadata": {},
   "outputs": [],
   "source": []
  },
  {
   "cell_type": "code",
   "execution_count": null,
   "id": "6ea60894",
   "metadata": {},
   "outputs": [],
   "source": []
  },
  {
   "cell_type": "code",
   "execution_count": null,
   "id": "3beb5923",
   "metadata": {},
   "outputs": [],
   "source": []
  },
  {
   "cell_type": "code",
   "execution_count": null,
   "id": "2103dd8d",
   "metadata": {},
   "outputs": [],
   "source": []
  },
  {
   "cell_type": "code",
   "execution_count": null,
   "id": "3e698f76",
   "metadata": {},
   "outputs": [],
   "source": []
  }
 ],
 "metadata": {
  "kernelspec": {
   "display_name": "Python 3",
   "language": "python",
   "name": "python3"
  },
  "language_info": {
   "codemirror_mode": {
    "name": "ipython",
    "version": 3
   },
   "file_extension": ".py",
   "mimetype": "text/x-python",
   "name": "python",
   "nbconvert_exporter": "python",
   "pygments_lexer": "ipython3",
   "version": "3.8.8"
  }
 },
 "nbformat": 4,
 "nbformat_minor": 5
}
